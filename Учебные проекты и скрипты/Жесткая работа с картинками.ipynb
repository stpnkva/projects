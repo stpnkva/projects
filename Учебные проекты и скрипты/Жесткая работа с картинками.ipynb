{
 "cells": [
  {
   "cell_type": "code",
   "execution_count": 1,
   "id": "6b9745f6",
   "metadata": {},
   "outputs": [
    {
     "ename": "NameError",
     "evalue": "name 'url_img' is not defined",
     "output_type": "error",
     "traceback": [
      "\u001b[0;31m---------------------------------------------------------------------------\u001b[0m",
      "\u001b[0;31mNameError\u001b[0m                                 Traceback (most recent call last)",
      "Cell \u001b[0;32mIn[1], line 4\u001b[0m\n\u001b[1;32m      2\u001b[0m \u001b[38;5;28;01mimport\u001b[39;00m \u001b[38;5;21;01mba\u001b[39;00m\n\u001b[1;32m      3\u001b[0m \u001b[38;5;28;01mimport\u001b[39;00m \u001b[38;5;21;01mbase64\u001b[39;00m\n\u001b[0;32m----> 4\u001b[0m \u001b[38;5;28;01mfor\u001b[39;00m img \u001b[38;5;129;01min\u001b[39;00m url_img:\n\u001b[1;32m      5\u001b[0m     ext \u001b[38;5;241m=\u001b[39m img\u001b[38;5;241m.\u001b[39mpartition(\u001b[38;5;124m'\u001b[39m\u001b[38;5;124mdata:image/\u001b[39m\u001b[38;5;124m'\u001b[39m)[\u001b[38;5;241m2\u001b[39m]\u001b[38;5;241m.\u001b[39msplit(\u001b[38;5;124m'\u001b[39m\u001b[38;5;124m;\u001b[39m\u001b[38;5;124m'\u001b[39m)[\u001b[38;5;241m0\u001b[39m]\n\u001b[1;32m      6\u001b[0m     file_path \u001b[38;5;241m=\u001b[39m os\u001b[38;5;241m.\u001b[39mpath\u001b[38;5;241m.\u001b[39mjoin(\u001b[38;5;124m'\u001b[39m\u001b[38;5;124m/Users/allastepannikova/Desktop/img3\u001b[39m\u001b[38;5;124m'\u001b[39m)\n",
      "\u001b[0;31mNameError\u001b[0m: name 'url_img' is not defined"
     ]
    }
   ],
   "source": [
    "#img - ссылка src на картинку, тут запись картинки (сохранение в файл):\n",
    "import os\n",
    "import ba\n",
    "import base64\n",
    "for img in url_img:\n",
    "    ext = img.partition('data:image/')[2].split(';')[0]\n",
    "    file_path = os.path.join('/Users/allastepannikova/Desktop/img3')\n",
    "    with open(file_path+'.'+ext,'wb') as f:\n",
    "        f.write(base64.b64decode(img.partition('base64,')[2]))"
   ]
  },
  {
   "cell_type": "code",
   "execution_count": 3,
   "id": "0b30c9dc",
   "metadata": {},
   "outputs": [
    {
     "name": "stdout",
     "output_type": "stream",
     "text": [
      "8 905 746-10-79\n",
      "\n"
     ]
    }
   ],
   "source": [
    "#чтение текста с картинки\n",
    "import pytesseract\n",
    "import cv2\n",
    "import matplotlib.pyplot as plt\n",
    "from PIL import Image\n",
    "image = Image.open(r\"/Users/allastepannikova/Desktop/img3.png\")\n",
    "string = pytesseract.image_to_string(image)\n",
    "print(string)"
   ]
  },
  {
   "cell_type": "code",
   "execution_count": 4,
   "id": "1bf7ffde",
   "metadata": {},
   "outputs": [
    {
     "ename": "NameError",
     "evalue": "name 'base64' is not defined",
     "output_type": "error",
     "traceback": [
      "\u001b[0;31m---------------------------------------------------------------------------\u001b[0m",
      "\u001b[0;31mNameError\u001b[0m                                 Traceback (most recent call last)",
      "Cell \u001b[0;32mIn[4], line 5\u001b[0m\n\u001b[1;32m      3\u001b[0m \u001b[38;5;28;01mimport\u001b[39;00m \u001b[38;5;21;01mio\u001b[39;00m\n\u001b[1;32m      4\u001b[0m \u001b[38;5;66;03m# image = Image.open(\"/Users/allastepannikova/Desktop/img2.png\")\u001b[39;00m\n\u001b[0;32m----> 5\u001b[0m fa \u001b[38;5;241m=\u001b[39m io\u001b[38;5;241m.\u001b[39mBytesIO(base64\u001b[38;5;241m.\u001b[39mb64decode(img\u001b[38;5;241m.\u001b[39mpartition(\u001b[38;5;124m'\u001b[39m\u001b[38;5;124mbase64,\u001b[39m\u001b[38;5;124m'\u001b[39m)[\u001b[38;5;241m2\u001b[39m]))\n\u001b[1;32m      6\u001b[0m \u001b[38;5;66;03m# image.save(fa, \"PNG\")\u001b[39;00m\n\u001b[1;32m      7\u001b[0m \u001b[38;5;66;03m# buff.seek(0)\u001b[39;00m\n\u001b[1;32m      8\u001b[0m image \u001b[38;5;241m=\u001b[39m Image\u001b[38;5;241m.\u001b[39mopen(fa)\n",
      "\u001b[0;31mNameError\u001b[0m: name 'base64' is not defined"
     ]
    }
   ],
   "source": [
    "#чтение из байтов и обратно в байты\n",
    "import base64\n",
    "# buff = base64.b64decode(img.partition('base64,')[2])\n",
    "# buff.seek(0)\n",
    "import io\n",
    "# image = Image.open(\"/Users/allastepannikova/Desktop/img2.png\")\n",
    "fa = io.BytesIO(base64.b64decode(img.partition('base64,')[2]))\n",
    "# image.save(fa, \"PNG\")\n",
    "# buff.seek(0)\n",
    "image = Image.open(fa)"
   ]
  },
  {
   "cell_type": "code",
   "execution_count": null,
   "id": "19c4d563",
   "metadata": {},
   "outputs": [],
   "source": []
  }
 ],
 "metadata": {
  "kernelspec": {
   "display_name": "Python 3 (ipykernel)",
   "language": "python",
   "name": "python3"
  },
  "language_info": {
   "codemirror_mode": {
    "name": "ipython",
    "version": 3
   },
   "file_extension": ".py",
   "mimetype": "text/x-python",
   "name": "python",
   "nbconvert_exporter": "python",
   "pygments_lexer": "ipython3",
   "version": "3.11.5"
  }
 },
 "nbformat": 4,
 "nbformat_minor": 5
}
